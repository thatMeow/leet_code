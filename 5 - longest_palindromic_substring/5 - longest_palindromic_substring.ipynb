{
 "cells": [
  {
   "cell_type": "code",
   "execution_count": 2,
   "metadata": {
    "collapsed": false
   },
   "outputs": [],
   "source": []
  },
  {
   "cell_type": "code",
   "execution_count": 24,
   "metadata": {
    "collapsed": false
   },
   "outputs": [
    {
     "name": "stdout",
     "output_type": "stream",
     "text": [
      "\n",
      "The longest Palindromic string is:\n",
      "\n"
     ]
    },
    {
     "data": {
      "text/plain": [
       "'uvwxyzzyxwvu'"
      ]
     },
     "execution_count": 24,
     "metadata": {},
     "output_type": "execute_result"
    }
   ],
   "source": [
    "s = 'abcddcbauvwxyzzyxwvu'\n",
    "\n",
    "emp_list = []\n",
    "emp_string = ''\n",
    "for i in range(len(s)):\n",
    "    for j in range(i, len(s)):\n",
    "        emp_string = emp_string + s[j]\n",
    "        if emp_string == emp_string[::-1] and len(emp_string)>1:\n",
    "            emp_list.append(emp_string)\n",
    "            emp_string = ''\n",
    "emp_list\n",
    "\n",
    "print \"\\nThe longest Palindromic string is:\\n\"\n",
    "max(emp_list, key=len)"
   ]
  },
  {
   "cell_type": "code",
   "execution_count": null,
   "metadata": {
    "collapsed": false
   },
   "outputs": [],
   "source": []
  },
  {
   "cell_type": "code",
   "execution_count": null,
   "metadata": {
    "collapsed": true
   },
   "outputs": [],
   "source": []
  },
  {
   "cell_type": "code",
   "execution_count": null,
   "metadata": {
    "collapsed": true
   },
   "outputs": [],
   "source": []
  }
 ],
 "metadata": {
  "anaconda-cloud": {},
  "kernelspec": {
   "display_name": "Python [conda root]",
   "language": "python",
   "name": "conda-root-py"
  },
  "language_info": {
   "codemirror_mode": {
    "name": "ipython",
    "version": 2
   },
   "file_extension": ".py",
   "mimetype": "text/x-python",
   "name": "python",
   "nbconvert_exporter": "python",
   "pygments_lexer": "ipython2",
   "version": "2.7.12"
  }
 },
 "nbformat": 4,
 "nbformat_minor": 1
}
