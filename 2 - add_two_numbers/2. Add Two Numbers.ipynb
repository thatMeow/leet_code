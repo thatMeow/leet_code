{
 "cells": [
  {
   "cell_type": "markdown",
   "metadata": {},
   "source": [
    "You are given two non-empty linked lists representing two non-negative integers. The digits are stored in reverse order and each of their nodes contain a single digit. Add the two numbers and return it as a linked list.\n",
    "\n",
    "You may assume the two numbers do not contain any leading zero, except the number 0 itself."
   ]
  },
  {
   "cell_type": "raw",
   "metadata": {},
   "source": [
    "Input: (2 -> 4 -> 3) + (5 -> 6 -> 4)\n",
    "Output: 7 -> 0 -> 8\n",
    "Explanation: 342 + 465 = 807."
   ]
  },
  {
   "cell_type": "code",
   "execution_count": 145,
   "metadata": {},
   "outputs": [],
   "source": [
    "# Definition for singly-linked list.\n",
    "# class ListNode:\n",
    "#     def __init__(self, x):\n",
    "#         self.val = x\n",
    "#         self.next = None\n",
    "\n",
    "class Solution(object):\n",
    "    \n",
    "    def __init__(self, list_1, list_2):\n",
    "        \n",
    "        self.list_1 = list_1\n",
    "        self.list_2 = list_2\n",
    "        self.new_list = []\n",
    "        \n",
    "    def addTwoNumbers(self):\n",
    "        \"\"\"\n",
    "        :type l1: ListNode\n",
    "        :type l2: ListNode\n",
    "        :rtype: ListNode\n",
    "        \"\"\"\n",
    "\n",
    "        for item_1, item_2 in zip(self.list_1, self.list_2):\n",
    "            self.new_list.append(item_1+item_2)\n",
    "        \n",
    "        self.new_list = self.new_list[::-1]\n",
    "        \n",
    "        for number in self.new_list[:-1]:\n",
    "            \n",
    "            if number >= 10:\n",
    "                self.new_list[self.new_list.index(number)+1] += 1\n",
    "                self.new_list[self.new_list.index(number)] -= 10\n",
    "                \n",
    "            else:\n",
    "                self.new_list[self.new_list.index(number)+1] += 0\n",
    "                self.new_list[self.new_list.index(number)] += 0\n",
    "\n",
    "        return self.new_list"
   ]
  },
  {
   "cell_type": "code",
   "execution_count": 146,
   "metadata": {},
   "outputs": [
    {
     "name": "stdout",
     "output_type": "stream",
     "text": [
      "[1, 0, 0]\n"
     ]
    }
   ],
   "source": [
    "s = Solution([0,0,1], [0,0,0])\n",
    "print(s.addTwoNumbers())"
   ]
  },
  {
   "cell_type": "code",
   "execution_count": null,
   "metadata": {
    "collapsed": true
   },
   "outputs": [],
   "source": []
  },
  {
   "cell_type": "code",
   "execution_count": null,
   "metadata": {
    "collapsed": true
   },
   "outputs": [],
   "source": []
  },
  {
   "cell_type": "code",
   "execution_count": null,
   "metadata": {
    "collapsed": true
   },
   "outputs": [],
   "source": []
  }
 ],
 "metadata": {
  "kernelspec": {
   "display_name": "Python 3",
   "language": "python",
   "name": "python3"
  },
  "language_info": {
   "codemirror_mode": {
    "name": "ipython",
    "version": 3
   },
   "file_extension": ".py",
   "mimetype": "text/x-python",
   "name": "python",
   "nbconvert_exporter": "python",
   "pygments_lexer": "ipython3",
   "version": "3.6.2"
  }
 },
 "nbformat": 4,
 "nbformat_minor": 2
}
